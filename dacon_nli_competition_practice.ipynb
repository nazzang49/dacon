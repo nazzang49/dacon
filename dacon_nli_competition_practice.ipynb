{
  "cells": [
    {
      "cell_type": "markdown",
      "metadata": {
        "id": "view-in-github",
        "colab_type": "text"
      },
      "source": [
        "<a href=\"https://colab.research.google.com/github/nazzang49/dacon/blob/main/dacon_nli_competition_practice.ipynb\" target=\"_parent\"><img src=\"https://colab.research.google.com/assets/colab-badge.svg\" alt=\"Open In Colab\"/></a>"
      ]
    },
    {
      "cell_type": "markdown",
      "source": [
        "# **Dacon NLI Competition Practice**\n",
        "https://dacon.io/competitions/official/235875/overview/description\n",
        "- Strarified K-Fold\n",
        "- Soft Voting Ensemble on Probs\n",
        "- Model Architecture Transformation\n",
        "- HPO"
      ],
      "metadata": {
        "id": "3p7Qc6FodvBn"
      },
      "id": "3p7Qc6FodvBn"
    },
    {
      "cell_type": "code",
      "source": [
        "# !pip install transformers datasets"
      ],
      "metadata": {
        "id": "Fj63NMddaWS7"
      },
      "id": "Fj63NMddaWS7",
      "execution_count": 48,
      "outputs": []
    },
    {
      "cell_type": "markdown",
      "source": [
        "## **Import Modules**"
      ],
      "metadata": {
        "id": "jk2_1igNHyan"
      },
      "id": "jk2_1igNHyan"
    },
    {
      "cell_type": "code",
      "execution_count": 49,
      "id": "5b845035-b15e-4c17-af16-2fafc8f2c2ef",
      "metadata": {
        "id": "5b845035-b15e-4c17-af16-2fafc8f2c2ef"
      },
      "outputs": [],
      "source": [
        "import pandas as pd\n",
        "import os\n",
        "import numpy as np\n",
        "import torch\n",
        "import torch.optim as optim\n",
        "import random\n",
        "\n",
        "from torch.utils.data import Dataset, DataLoader\n",
        "from torch import nn\n",
        "from tqdm import tqdm, tqdm_notebook\n",
        "from glob import glob\n",
        "from transformers import AdamW, AutoTokenizer, AutoModelForSequenceClassification, AutoConfig, get_cosine_with_hard_restarts_schedule_with_warmup"
      ]
    },
    {
      "cell_type": "markdown",
      "source": [
        "## **Fix Seed**"
      ],
      "metadata": {
        "id": "w34rMYdmH5MK"
      },
      "id": "w34rMYdmH5MK"
    },
    {
      "cell_type": "code",
      "source": [
        "def set_seeds(seed=42):\n",
        "    random.seed(seed)\n",
        "    os.environ['PYTHONHASHSEED'] = str(seed)\n",
        "    np.random.seed(seed)\n",
        "    torch.manual_seed(seed)\n",
        "    torch.cuda.manual_seed(seed)\n",
        "    torch.cuda.manual_seed_all(seed)\n",
        "    torch.backends.cudnn.deterministic = True\n",
        "    torch.backends.cudnn.benchmark = False"
      ],
      "metadata": {
        "id": "FoKCHBsjqzjU"
      },
      "id": "FoKCHBsjqzjU",
      "execution_count": 50,
      "outputs": []
    },
    {
      "cell_type": "markdown",
      "id": "c2bc9d89-1518-49d0-9060-e236f3664914",
      "metadata": {
        "id": "c2bc9d89-1518-49d0-9060-e236f3664914"
      },
      "source": [
        "## **Load Data**\n",
        "- DataFrame Head\n",
        "- DataFrame Describe\n",
        "- Pandas Profiling"
      ]
    },
    {
      "cell_type": "code",
      "execution_count": 51,
      "id": "c62e6fe7-0c2d-4875-8ffd-a7505479a60a",
      "metadata": {
        "id": "c62e6fe7-0c2d-4875-8ffd-a7505479a60a"
      },
      "outputs": [],
      "source": [
        "train = pd.read_csv(\"/content/train_data.csv\")\n",
        "test = pd.read_csv(\"/content/test_data.csv\")\n",
        "submission = pd.read_csv(\"/content/sample_submission.csv\")"
      ]
    },
    {
      "cell_type": "code",
      "source": [
        "train.head()"
      ],
      "metadata": {
        "colab": {
          "base_uri": "https://localhost:8080/",
          "height": 337
        },
        "id": "_jylwuxsECft",
        "outputId": "2cb52f98-e789-4c2a-c83a-7c254fe88b51"
      },
      "id": "_jylwuxsECft",
      "execution_count": 52,
      "outputs": [
        {
          "output_type": "execute_result",
          "data": {
            "text/plain": [
              "   index                                            premise  \\\n",
              "0      0  씨름은 상고시대로부터 전해져 내려오는 남자들의 대표적인 놀이로서, 소년이나 장정들이...   \n",
              "1      1  삼성은 자작극을 벌인 2명에게 형사 고소 등의 법적 대응을 검토 중이라고 하였으나,...   \n",
              "2      2                    이를 위해 예측적 범죄예방 시스템을 구축하고 고도화한다.   \n",
              "3      3  광주광역시가 재개발 정비사업 원주민들에 대한 종합대책을 마련하는 등 원주민 보호에 ...   \n",
              "4      4  진정 소비자와 직원들에게 사랑 받는 기업으로 오래 지속되고 싶으면, 이런 상황에서는...   \n",
              "\n",
              "                                hypothesis          label  \n",
              "0                           씨름의 여자들의 놀이이다.  contradiction  \n",
              "1                         자작극을 벌인 이는 3명이다.  contradiction  \n",
              "2  예측적 범죄예방 시스템 구축하고 고도화하는 것은 목적이 있기 때문이다.     entailment  \n",
              "3                        원주민들은 종합대책에 만족했다.        neutral  \n",
              "4       이런 상황에서 책임 있는 모습을 보여주는 기업은 아주 드물다.        neutral  "
            ],
            "text/html": [
              "\n",
              "  <div id=\"df-1beb029f-0a00-49c9-be40-f1b7ab91c4d0\">\n",
              "    <div class=\"colab-df-container\">\n",
              "      <div>\n",
              "<style scoped>\n",
              "    .dataframe tbody tr th:only-of-type {\n",
              "        vertical-align: middle;\n",
              "    }\n",
              "\n",
              "    .dataframe tbody tr th {\n",
              "        vertical-align: top;\n",
              "    }\n",
              "\n",
              "    .dataframe thead th {\n",
              "        text-align: right;\n",
              "    }\n",
              "</style>\n",
              "<table border=\"1\" class=\"dataframe\">\n",
              "  <thead>\n",
              "    <tr style=\"text-align: right;\">\n",
              "      <th></th>\n",
              "      <th>index</th>\n",
              "      <th>premise</th>\n",
              "      <th>hypothesis</th>\n",
              "      <th>label</th>\n",
              "    </tr>\n",
              "  </thead>\n",
              "  <tbody>\n",
              "    <tr>\n",
              "      <th>0</th>\n",
              "      <td>0</td>\n",
              "      <td>씨름은 상고시대로부터 전해져 내려오는 남자들의 대표적인 놀이로서, 소년이나 장정들이...</td>\n",
              "      <td>씨름의 여자들의 놀이이다.</td>\n",
              "      <td>contradiction</td>\n",
              "    </tr>\n",
              "    <tr>\n",
              "      <th>1</th>\n",
              "      <td>1</td>\n",
              "      <td>삼성은 자작극을 벌인 2명에게 형사 고소 등의 법적 대응을 검토 중이라고 하였으나,...</td>\n",
              "      <td>자작극을 벌인 이는 3명이다.</td>\n",
              "      <td>contradiction</td>\n",
              "    </tr>\n",
              "    <tr>\n",
              "      <th>2</th>\n",
              "      <td>2</td>\n",
              "      <td>이를 위해 예측적 범죄예방 시스템을 구축하고 고도화한다.</td>\n",
              "      <td>예측적 범죄예방 시스템 구축하고 고도화하는 것은 목적이 있기 때문이다.</td>\n",
              "      <td>entailment</td>\n",
              "    </tr>\n",
              "    <tr>\n",
              "      <th>3</th>\n",
              "      <td>3</td>\n",
              "      <td>광주광역시가 재개발 정비사업 원주민들에 대한 종합대책을 마련하는 등 원주민 보호에 ...</td>\n",
              "      <td>원주민들은 종합대책에 만족했다.</td>\n",
              "      <td>neutral</td>\n",
              "    </tr>\n",
              "    <tr>\n",
              "      <th>4</th>\n",
              "      <td>4</td>\n",
              "      <td>진정 소비자와 직원들에게 사랑 받는 기업으로 오래 지속되고 싶으면, 이런 상황에서는...</td>\n",
              "      <td>이런 상황에서 책임 있는 모습을 보여주는 기업은 아주 드물다.</td>\n",
              "      <td>neutral</td>\n",
              "    </tr>\n",
              "  </tbody>\n",
              "</table>\n",
              "</div>\n",
              "      <button class=\"colab-df-convert\" onclick=\"convertToInteractive('df-1beb029f-0a00-49c9-be40-f1b7ab91c4d0')\"\n",
              "              title=\"Convert this dataframe to an interactive table.\"\n",
              "              style=\"display:none;\">\n",
              "        \n",
              "  <svg xmlns=\"http://www.w3.org/2000/svg\" height=\"24px\"viewBox=\"0 0 24 24\"\n",
              "       width=\"24px\">\n",
              "    <path d=\"M0 0h24v24H0V0z\" fill=\"none\"/>\n",
              "    <path d=\"M18.56 5.44l.94 2.06.94-2.06 2.06-.94-2.06-.94-.94-2.06-.94 2.06-2.06.94zm-11 1L8.5 8.5l.94-2.06 2.06-.94-2.06-.94L8.5 2.5l-.94 2.06-2.06.94zm10 10l.94 2.06.94-2.06 2.06-.94-2.06-.94-.94-2.06-.94 2.06-2.06.94z\"/><path d=\"M17.41 7.96l-1.37-1.37c-.4-.4-.92-.59-1.43-.59-.52 0-1.04.2-1.43.59L10.3 9.45l-7.72 7.72c-.78.78-.78 2.05 0 2.83L4 21.41c.39.39.9.59 1.41.59.51 0 1.02-.2 1.41-.59l7.78-7.78 2.81-2.81c.8-.78.8-2.07 0-2.86zM5.41 20L4 18.59l7.72-7.72 1.47 1.35L5.41 20z\"/>\n",
              "  </svg>\n",
              "      </button>\n",
              "      \n",
              "  <style>\n",
              "    .colab-df-container {\n",
              "      display:flex;\n",
              "      flex-wrap:wrap;\n",
              "      gap: 12px;\n",
              "    }\n",
              "\n",
              "    .colab-df-convert {\n",
              "      background-color: #E8F0FE;\n",
              "      border: none;\n",
              "      border-radius: 50%;\n",
              "      cursor: pointer;\n",
              "      display: none;\n",
              "      fill: #1967D2;\n",
              "      height: 32px;\n",
              "      padding: 0 0 0 0;\n",
              "      width: 32px;\n",
              "    }\n",
              "\n",
              "    .colab-df-convert:hover {\n",
              "      background-color: #E2EBFA;\n",
              "      box-shadow: 0px 1px 2px rgba(60, 64, 67, 0.3), 0px 1px 3px 1px rgba(60, 64, 67, 0.15);\n",
              "      fill: #174EA6;\n",
              "    }\n",
              "\n",
              "    [theme=dark] .colab-df-convert {\n",
              "      background-color: #3B4455;\n",
              "      fill: #D2E3FC;\n",
              "    }\n",
              "\n",
              "    [theme=dark] .colab-df-convert:hover {\n",
              "      background-color: #434B5C;\n",
              "      box-shadow: 0px 1px 3px 1px rgba(0, 0, 0, 0.15);\n",
              "      filter: drop-shadow(0px 1px 2px rgba(0, 0, 0, 0.3));\n",
              "      fill: #FFFFFF;\n",
              "    }\n",
              "  </style>\n",
              "\n",
              "      <script>\n",
              "        const buttonEl =\n",
              "          document.querySelector('#df-1beb029f-0a00-49c9-be40-f1b7ab91c4d0 button.colab-df-convert');\n",
              "        buttonEl.style.display =\n",
              "          google.colab.kernel.accessAllowed ? 'block' : 'none';\n",
              "\n",
              "        async function convertToInteractive(key) {\n",
              "          const element = document.querySelector('#df-1beb029f-0a00-49c9-be40-f1b7ab91c4d0');\n",
              "          const dataTable =\n",
              "            await google.colab.kernel.invokeFunction('convertToInteractive',\n",
              "                                                     [key], {});\n",
              "          if (!dataTable) return;\n",
              "\n",
              "          const docLinkHtml = 'Like what you see? Visit the ' +\n",
              "            '<a target=\"_blank\" href=https://colab.research.google.com/notebooks/data_table.ipynb>data table notebook</a>'\n",
              "            + ' to learn more about interactive tables.';\n",
              "          element.innerHTML = '';\n",
              "          dataTable['output_type'] = 'display_data';\n",
              "          await google.colab.output.renderOutput(dataTable, element);\n",
              "          const docLink = document.createElement('div');\n",
              "          docLink.innerHTML = docLinkHtml;\n",
              "          element.appendChild(docLink);\n",
              "        }\n",
              "      </script>\n",
              "    </div>\n",
              "  </div>\n",
              "  "
            ]
          },
          "metadata": {},
          "execution_count": 52
        }
      ]
    },
    {
      "cell_type": "code",
      "source": [
        "test.head()"
      ],
      "metadata": {
        "colab": {
          "base_uri": "https://localhost:8080/",
          "height": 424
        },
        "id": "Hxhx2biCI-mn",
        "outputId": "9be93a90-3254-4990-8b72-b71a1fe0265b"
      },
      "id": "Hxhx2biCI-mn",
      "execution_count": 73,
      "outputs": [
        {
          "output_type": "execute_result",
          "data": {
            "text/plain": [
              "   index                                       premise  \\\n",
              "0      0                     다만 조금 좁아서 케리어를 펼치기 불편합니다.   \n",
              "1      1                    그리고 위치가 시먼역보다는 샤오난먼역에 가까워요   \n",
              "2      2             구구절절 설명하고 이해시키려는 노력이 큰 의미없이 다가온다.   \n",
              "3      3                      몇 번을 다시봐도 볼 때마다 가슴이 저민다.   \n",
              "4      4  8월 중에 입주신청을 하면 청년은 9월, 신혼부부는 10월부터 입주가 가능하다.   \n",
              "\n",
              "                             hypothesis   label  \\\n",
              "0                 케리어를 펼치기에 공간이 충분했습니다.  answer   \n",
              "1            시먼역보다는 샤오난먼역에 먼저 도착할 수 있어요  answer   \n",
              "2     무엇인가 말을 많이 하기는 했지만 큰 의미가 있지는 않았다.  answer   \n",
              "3                        다시 봤을때는 무덤덤했다.  answer   \n",
              "4  8월 중에 입주신청을 하면 신혼부부는 9월 부터 입주가 가능하다.  answer   \n",
              "\n",
              "                                            premise_  \\\n",
              "0                     다만 조금 좁아서 케리어를 펼치기 불편합니다.[SEP]   \n",
              "1                    그리고 위치가 시먼역보다는 샤오난먼역에 가까워요[SEP]   \n",
              "2             구구절절 설명하고 이해시키려는 노력이 큰 의미없이 다가온다.[SEP]   \n",
              "3                      몇 번을 다시봐도 볼 때마다 가슴이 저민다.[SEP]   \n",
              "4  8월 중에 입주신청을 하면 청년은 9월, 신혼부부는 10월부터 입주가 가능하다.[SEP]   \n",
              "\n",
              "                            hypothesis_  \\\n",
              "0                 케리어를 펼치기에 공간이 충분했습니다.   \n",
              "1            시먼역보다는 샤오난먼역에 먼저 도착할 수 있어요   \n",
              "2     무엇인가 말을 많이 하기는 했지만 큰 의미가 있지는 않았다.   \n",
              "3                        다시 봤을때는 무덤덤했다.   \n",
              "4  8월 중에 입주신청을 하면 신혼부부는 9월 부터 입주가 가능하다.   \n",
              "\n",
              "                                            text_sum  \n",
              "0  다만 조금 좁아서 케리어를 펼치기 불편합니다.[SEP] 케리어를 펼치기에 공간이 충...  \n",
              "1  그리고 위치가 시먼역보다는 샤오난먼역에 가까워요[SEP] 시먼역보다는 샤오난먼역에 ...  \n",
              "2  구구절절 설명하고 이해시키려는 노력이 큰 의미없이 다가온다.[SEP] 무엇인가 말을...  \n",
              "3       몇 번을 다시봐도 볼 때마다 가슴이 저민다.[SEP] 다시 봤을때는 무덤덤했다.  \n",
              "4  8월 중에 입주신청을 하면 청년은 9월, 신혼부부는 10월부터 입주가 가능하다.[S...  "
            ],
            "text/html": [
              "\n",
              "  <div id=\"df-2bf9fd1b-5a88-47ce-a89b-5f091b9bd9fc\">\n",
              "    <div class=\"colab-df-container\">\n",
              "      <div>\n",
              "<style scoped>\n",
              "    .dataframe tbody tr th:only-of-type {\n",
              "        vertical-align: middle;\n",
              "    }\n",
              "\n",
              "    .dataframe tbody tr th {\n",
              "        vertical-align: top;\n",
              "    }\n",
              "\n",
              "    .dataframe thead th {\n",
              "        text-align: right;\n",
              "    }\n",
              "</style>\n",
              "<table border=\"1\" class=\"dataframe\">\n",
              "  <thead>\n",
              "    <tr style=\"text-align: right;\">\n",
              "      <th></th>\n",
              "      <th>index</th>\n",
              "      <th>premise</th>\n",
              "      <th>hypothesis</th>\n",
              "      <th>label</th>\n",
              "      <th>premise_</th>\n",
              "      <th>hypothesis_</th>\n",
              "      <th>text_sum</th>\n",
              "    </tr>\n",
              "  </thead>\n",
              "  <tbody>\n",
              "    <tr>\n",
              "      <th>0</th>\n",
              "      <td>0</td>\n",
              "      <td>다만 조금 좁아서 케리어를 펼치기 불편합니다.</td>\n",
              "      <td>케리어를 펼치기에 공간이 충분했습니다.</td>\n",
              "      <td>answer</td>\n",
              "      <td>다만 조금 좁아서 케리어를 펼치기 불편합니다.[SEP]</td>\n",
              "      <td>케리어를 펼치기에 공간이 충분했습니다.</td>\n",
              "      <td>다만 조금 좁아서 케리어를 펼치기 불편합니다.[SEP] 케리어를 펼치기에 공간이 충...</td>\n",
              "    </tr>\n",
              "    <tr>\n",
              "      <th>1</th>\n",
              "      <td>1</td>\n",
              "      <td>그리고 위치가 시먼역보다는 샤오난먼역에 가까워요</td>\n",
              "      <td>시먼역보다는 샤오난먼역에 먼저 도착할 수 있어요</td>\n",
              "      <td>answer</td>\n",
              "      <td>그리고 위치가 시먼역보다는 샤오난먼역에 가까워요[SEP]</td>\n",
              "      <td>시먼역보다는 샤오난먼역에 먼저 도착할 수 있어요</td>\n",
              "      <td>그리고 위치가 시먼역보다는 샤오난먼역에 가까워요[SEP] 시먼역보다는 샤오난먼역에 ...</td>\n",
              "    </tr>\n",
              "    <tr>\n",
              "      <th>2</th>\n",
              "      <td>2</td>\n",
              "      <td>구구절절 설명하고 이해시키려는 노력이 큰 의미없이 다가온다.</td>\n",
              "      <td>무엇인가 말을 많이 하기는 했지만 큰 의미가 있지는 않았다.</td>\n",
              "      <td>answer</td>\n",
              "      <td>구구절절 설명하고 이해시키려는 노력이 큰 의미없이 다가온다.[SEP]</td>\n",
              "      <td>무엇인가 말을 많이 하기는 했지만 큰 의미가 있지는 않았다.</td>\n",
              "      <td>구구절절 설명하고 이해시키려는 노력이 큰 의미없이 다가온다.[SEP] 무엇인가 말을...</td>\n",
              "    </tr>\n",
              "    <tr>\n",
              "      <th>3</th>\n",
              "      <td>3</td>\n",
              "      <td>몇 번을 다시봐도 볼 때마다 가슴이 저민다.</td>\n",
              "      <td>다시 봤을때는 무덤덤했다.</td>\n",
              "      <td>answer</td>\n",
              "      <td>몇 번을 다시봐도 볼 때마다 가슴이 저민다.[SEP]</td>\n",
              "      <td>다시 봤을때는 무덤덤했다.</td>\n",
              "      <td>몇 번을 다시봐도 볼 때마다 가슴이 저민다.[SEP] 다시 봤을때는 무덤덤했다.</td>\n",
              "    </tr>\n",
              "    <tr>\n",
              "      <th>4</th>\n",
              "      <td>4</td>\n",
              "      <td>8월 중에 입주신청을 하면 청년은 9월, 신혼부부는 10월부터 입주가 가능하다.</td>\n",
              "      <td>8월 중에 입주신청을 하면 신혼부부는 9월 부터 입주가 가능하다.</td>\n",
              "      <td>answer</td>\n",
              "      <td>8월 중에 입주신청을 하면 청년은 9월, 신혼부부는 10월부터 입주가 가능하다.[SEP]</td>\n",
              "      <td>8월 중에 입주신청을 하면 신혼부부는 9월 부터 입주가 가능하다.</td>\n",
              "      <td>8월 중에 입주신청을 하면 청년은 9월, 신혼부부는 10월부터 입주가 가능하다.[S...</td>\n",
              "    </tr>\n",
              "  </tbody>\n",
              "</table>\n",
              "</div>\n",
              "      <button class=\"colab-df-convert\" onclick=\"convertToInteractive('df-2bf9fd1b-5a88-47ce-a89b-5f091b9bd9fc')\"\n",
              "              title=\"Convert this dataframe to an interactive table.\"\n",
              "              style=\"display:none;\">\n",
              "        \n",
              "  <svg xmlns=\"http://www.w3.org/2000/svg\" height=\"24px\"viewBox=\"0 0 24 24\"\n",
              "       width=\"24px\">\n",
              "    <path d=\"M0 0h24v24H0V0z\" fill=\"none\"/>\n",
              "    <path d=\"M18.56 5.44l.94 2.06.94-2.06 2.06-.94-2.06-.94-.94-2.06-.94 2.06-2.06.94zm-11 1L8.5 8.5l.94-2.06 2.06-.94-2.06-.94L8.5 2.5l-.94 2.06-2.06.94zm10 10l.94 2.06.94-2.06 2.06-.94-2.06-.94-.94-2.06-.94 2.06-2.06.94z\"/><path d=\"M17.41 7.96l-1.37-1.37c-.4-.4-.92-.59-1.43-.59-.52 0-1.04.2-1.43.59L10.3 9.45l-7.72 7.72c-.78.78-.78 2.05 0 2.83L4 21.41c.39.39.9.59 1.41.59.51 0 1.02-.2 1.41-.59l7.78-7.78 2.81-2.81c.8-.78.8-2.07 0-2.86zM5.41 20L4 18.59l7.72-7.72 1.47 1.35L5.41 20z\"/>\n",
              "  </svg>\n",
              "      </button>\n",
              "      \n",
              "  <style>\n",
              "    .colab-df-container {\n",
              "      display:flex;\n",
              "      flex-wrap:wrap;\n",
              "      gap: 12px;\n",
              "    }\n",
              "\n",
              "    .colab-df-convert {\n",
              "      background-color: #E8F0FE;\n",
              "      border: none;\n",
              "      border-radius: 50%;\n",
              "      cursor: pointer;\n",
              "      display: none;\n",
              "      fill: #1967D2;\n",
              "      height: 32px;\n",
              "      padding: 0 0 0 0;\n",
              "      width: 32px;\n",
              "    }\n",
              "\n",
              "    .colab-df-convert:hover {\n",
              "      background-color: #E2EBFA;\n",
              "      box-shadow: 0px 1px 2px rgba(60, 64, 67, 0.3), 0px 1px 3px 1px rgba(60, 64, 67, 0.15);\n",
              "      fill: #174EA6;\n",
              "    }\n",
              "\n",
              "    [theme=dark] .colab-df-convert {\n",
              "      background-color: #3B4455;\n",
              "      fill: #D2E3FC;\n",
              "    }\n",
              "\n",
              "    [theme=dark] .colab-df-convert:hover {\n",
              "      background-color: #434B5C;\n",
              "      box-shadow: 0px 1px 3px 1px rgba(0, 0, 0, 0.15);\n",
              "      filter: drop-shadow(0px 1px 2px rgba(0, 0, 0, 0.3));\n",
              "      fill: #FFFFFF;\n",
              "    }\n",
              "  </style>\n",
              "\n",
              "      <script>\n",
              "        const buttonEl =\n",
              "          document.querySelector('#df-2bf9fd1b-5a88-47ce-a89b-5f091b9bd9fc button.colab-df-convert');\n",
              "        buttonEl.style.display =\n",
              "          google.colab.kernel.accessAllowed ? 'block' : 'none';\n",
              "\n",
              "        async function convertToInteractive(key) {\n",
              "          const element = document.querySelector('#df-2bf9fd1b-5a88-47ce-a89b-5f091b9bd9fc');\n",
              "          const dataTable =\n",
              "            await google.colab.kernel.invokeFunction('convertToInteractive',\n",
              "                                                     [key], {});\n",
              "          if (!dataTable) return;\n",
              "\n",
              "          const docLinkHtml = 'Like what you see? Visit the ' +\n",
              "            '<a target=\"_blank\" href=https://colab.research.google.com/notebooks/data_table.ipynb>data table notebook</a>'\n",
              "            + ' to learn more about interactive tables.';\n",
              "          element.innerHTML = '';\n",
              "          dataTable['output_type'] = 'display_data';\n",
              "          await google.colab.output.renderOutput(dataTable, element);\n",
              "          const docLink = document.createElement('div');\n",
              "          docLink.innerHTML = docLinkHtml;\n",
              "          element.appendChild(docLink);\n",
              "        }\n",
              "      </script>\n",
              "    </div>\n",
              "  </div>\n",
              "  "
            ]
          },
          "metadata": {},
          "execution_count": 73
        }
      ]
    },
    {
      "cell_type": "code",
      "source": [
        "train.describe()"
      ],
      "metadata": {
        "colab": {
          "base_uri": "https://localhost:8080/",
          "height": 300
        },
        "id": "0aK7UR7C1LVD",
        "outputId": "d6dd1bb6-3377-4ca3-f5ee-442ff290122d"
      },
      "id": "0aK7UR7C1LVD",
      "execution_count": 53,
      "outputs": [
        {
          "output_type": "execute_result",
          "data": {
            "text/plain": [
              "              index\n",
              "count  24998.000000\n",
              "mean   12498.500000\n",
              "std     7216.445351\n",
              "min        0.000000\n",
              "25%     6249.250000\n",
              "50%    12498.500000\n",
              "75%    18747.750000\n",
              "max    24997.000000"
            ],
            "text/html": [
              "\n",
              "  <div id=\"df-c082dceb-6e8b-455e-964f-92469001ef87\">\n",
              "    <div class=\"colab-df-container\">\n",
              "      <div>\n",
              "<style scoped>\n",
              "    .dataframe tbody tr th:only-of-type {\n",
              "        vertical-align: middle;\n",
              "    }\n",
              "\n",
              "    .dataframe tbody tr th {\n",
              "        vertical-align: top;\n",
              "    }\n",
              "\n",
              "    .dataframe thead th {\n",
              "        text-align: right;\n",
              "    }\n",
              "</style>\n",
              "<table border=\"1\" class=\"dataframe\">\n",
              "  <thead>\n",
              "    <tr style=\"text-align: right;\">\n",
              "      <th></th>\n",
              "      <th>index</th>\n",
              "    </tr>\n",
              "  </thead>\n",
              "  <tbody>\n",
              "    <tr>\n",
              "      <th>count</th>\n",
              "      <td>24998.000000</td>\n",
              "    </tr>\n",
              "    <tr>\n",
              "      <th>mean</th>\n",
              "      <td>12498.500000</td>\n",
              "    </tr>\n",
              "    <tr>\n",
              "      <th>std</th>\n",
              "      <td>7216.445351</td>\n",
              "    </tr>\n",
              "    <tr>\n",
              "      <th>min</th>\n",
              "      <td>0.000000</td>\n",
              "    </tr>\n",
              "    <tr>\n",
              "      <th>25%</th>\n",
              "      <td>6249.250000</td>\n",
              "    </tr>\n",
              "    <tr>\n",
              "      <th>50%</th>\n",
              "      <td>12498.500000</td>\n",
              "    </tr>\n",
              "    <tr>\n",
              "      <th>75%</th>\n",
              "      <td>18747.750000</td>\n",
              "    </tr>\n",
              "    <tr>\n",
              "      <th>max</th>\n",
              "      <td>24997.000000</td>\n",
              "    </tr>\n",
              "  </tbody>\n",
              "</table>\n",
              "</div>\n",
              "      <button class=\"colab-df-convert\" onclick=\"convertToInteractive('df-c082dceb-6e8b-455e-964f-92469001ef87')\"\n",
              "              title=\"Convert this dataframe to an interactive table.\"\n",
              "              style=\"display:none;\">\n",
              "        \n",
              "  <svg xmlns=\"http://www.w3.org/2000/svg\" height=\"24px\"viewBox=\"0 0 24 24\"\n",
              "       width=\"24px\">\n",
              "    <path d=\"M0 0h24v24H0V0z\" fill=\"none\"/>\n",
              "    <path d=\"M18.56 5.44l.94 2.06.94-2.06 2.06-.94-2.06-.94-.94-2.06-.94 2.06-2.06.94zm-11 1L8.5 8.5l.94-2.06 2.06-.94-2.06-.94L8.5 2.5l-.94 2.06-2.06.94zm10 10l.94 2.06.94-2.06 2.06-.94-2.06-.94-.94-2.06-.94 2.06-2.06.94z\"/><path d=\"M17.41 7.96l-1.37-1.37c-.4-.4-.92-.59-1.43-.59-.52 0-1.04.2-1.43.59L10.3 9.45l-7.72 7.72c-.78.78-.78 2.05 0 2.83L4 21.41c.39.39.9.59 1.41.59.51 0 1.02-.2 1.41-.59l7.78-7.78 2.81-2.81c.8-.78.8-2.07 0-2.86zM5.41 20L4 18.59l7.72-7.72 1.47 1.35L5.41 20z\"/>\n",
              "  </svg>\n",
              "      </button>\n",
              "      \n",
              "  <style>\n",
              "    .colab-df-container {\n",
              "      display:flex;\n",
              "      flex-wrap:wrap;\n",
              "      gap: 12px;\n",
              "    }\n",
              "\n",
              "    .colab-df-convert {\n",
              "      background-color: #E8F0FE;\n",
              "      border: none;\n",
              "      border-radius: 50%;\n",
              "      cursor: pointer;\n",
              "      display: none;\n",
              "      fill: #1967D2;\n",
              "      height: 32px;\n",
              "      padding: 0 0 0 0;\n",
              "      width: 32px;\n",
              "    }\n",
              "\n",
              "    .colab-df-convert:hover {\n",
              "      background-color: #E2EBFA;\n",
              "      box-shadow: 0px 1px 2px rgba(60, 64, 67, 0.3), 0px 1px 3px 1px rgba(60, 64, 67, 0.15);\n",
              "      fill: #174EA6;\n",
              "    }\n",
              "\n",
              "    [theme=dark] .colab-df-convert {\n",
              "      background-color: #3B4455;\n",
              "      fill: #D2E3FC;\n",
              "    }\n",
              "\n",
              "    [theme=dark] .colab-df-convert:hover {\n",
              "      background-color: #434B5C;\n",
              "      box-shadow: 0px 1px 3px 1px rgba(0, 0, 0, 0.15);\n",
              "      filter: drop-shadow(0px 1px 2px rgba(0, 0, 0, 0.3));\n",
              "      fill: #FFFFFF;\n",
              "    }\n",
              "  </style>\n",
              "\n",
              "      <script>\n",
              "        const buttonEl =\n",
              "          document.querySelector('#df-c082dceb-6e8b-455e-964f-92469001ef87 button.colab-df-convert');\n",
              "        buttonEl.style.display =\n",
              "          google.colab.kernel.accessAllowed ? 'block' : 'none';\n",
              "\n",
              "        async function convertToInteractive(key) {\n",
              "          const element = document.querySelector('#df-c082dceb-6e8b-455e-964f-92469001ef87');\n",
              "          const dataTable =\n",
              "            await google.colab.kernel.invokeFunction('convertToInteractive',\n",
              "                                                     [key], {});\n",
              "          if (!dataTable) return;\n",
              "\n",
              "          const docLinkHtml = 'Like what you see? Visit the ' +\n",
              "            '<a target=\"_blank\" href=https://colab.research.google.com/notebooks/data_table.ipynb>data table notebook</a>'\n",
              "            + ' to learn more about interactive tables.';\n",
              "          element.innerHTML = '';\n",
              "          dataTable['output_type'] = 'display_data';\n",
              "          await google.colab.output.renderOutput(dataTable, element);\n",
              "          const docLink = document.createElement('div');\n",
              "          docLink.innerHTML = docLinkHtml;\n",
              "          element.appendChild(docLink);\n",
              "        }\n",
              "      </script>\n",
              "    </div>\n",
              "  </div>\n",
              "  "
            ]
          },
          "metadata": {},
          "execution_count": 53
        }
      ]
    },
    {
      "cell_type": "code",
      "source": [
        "test.describe()"
      ],
      "metadata": {
        "colab": {
          "base_uri": "https://localhost:8080/",
          "height": 300
        },
        "id": "YAG5lk45HCr8",
        "outputId": "5098ed1a-4a68-4a96-b21c-fcc61d3558cc"
      },
      "id": "YAG5lk45HCr8",
      "execution_count": 70,
      "outputs": [
        {
          "output_type": "execute_result",
          "data": {
            "text/plain": [
              "            index\n",
              "count  1666.00000\n",
              "mean    832.50000\n",
              "std     481.07709\n",
              "min       0.00000\n",
              "25%     416.25000\n",
              "50%     832.50000\n",
              "75%    1248.75000\n",
              "max    1665.00000"
            ],
            "text/html": [
              "\n",
              "  <div id=\"df-19eeacad-6561-4dfa-b1ba-470ccc94c3df\">\n",
              "    <div class=\"colab-df-container\">\n",
              "      <div>\n",
              "<style scoped>\n",
              "    .dataframe tbody tr th:only-of-type {\n",
              "        vertical-align: middle;\n",
              "    }\n",
              "\n",
              "    .dataframe tbody tr th {\n",
              "        vertical-align: top;\n",
              "    }\n",
              "\n",
              "    .dataframe thead th {\n",
              "        text-align: right;\n",
              "    }\n",
              "</style>\n",
              "<table border=\"1\" class=\"dataframe\">\n",
              "  <thead>\n",
              "    <tr style=\"text-align: right;\">\n",
              "      <th></th>\n",
              "      <th>index</th>\n",
              "    </tr>\n",
              "  </thead>\n",
              "  <tbody>\n",
              "    <tr>\n",
              "      <th>count</th>\n",
              "      <td>1666.00000</td>\n",
              "    </tr>\n",
              "    <tr>\n",
              "      <th>mean</th>\n",
              "      <td>832.50000</td>\n",
              "    </tr>\n",
              "    <tr>\n",
              "      <th>std</th>\n",
              "      <td>481.07709</td>\n",
              "    </tr>\n",
              "    <tr>\n",
              "      <th>min</th>\n",
              "      <td>0.00000</td>\n",
              "    </tr>\n",
              "    <tr>\n",
              "      <th>25%</th>\n",
              "      <td>416.25000</td>\n",
              "    </tr>\n",
              "    <tr>\n",
              "      <th>50%</th>\n",
              "      <td>832.50000</td>\n",
              "    </tr>\n",
              "    <tr>\n",
              "      <th>75%</th>\n",
              "      <td>1248.75000</td>\n",
              "    </tr>\n",
              "    <tr>\n",
              "      <th>max</th>\n",
              "      <td>1665.00000</td>\n",
              "    </tr>\n",
              "  </tbody>\n",
              "</table>\n",
              "</div>\n",
              "      <button class=\"colab-df-convert\" onclick=\"convertToInteractive('df-19eeacad-6561-4dfa-b1ba-470ccc94c3df')\"\n",
              "              title=\"Convert this dataframe to an interactive table.\"\n",
              "              style=\"display:none;\">\n",
              "        \n",
              "  <svg xmlns=\"http://www.w3.org/2000/svg\" height=\"24px\"viewBox=\"0 0 24 24\"\n",
              "       width=\"24px\">\n",
              "    <path d=\"M0 0h24v24H0V0z\" fill=\"none\"/>\n",
              "    <path d=\"M18.56 5.44l.94 2.06.94-2.06 2.06-.94-2.06-.94-.94-2.06-.94 2.06-2.06.94zm-11 1L8.5 8.5l.94-2.06 2.06-.94-2.06-.94L8.5 2.5l-.94 2.06-2.06.94zm10 10l.94 2.06.94-2.06 2.06-.94-2.06-.94-.94-2.06-.94 2.06-2.06.94z\"/><path d=\"M17.41 7.96l-1.37-1.37c-.4-.4-.92-.59-1.43-.59-.52 0-1.04.2-1.43.59L10.3 9.45l-7.72 7.72c-.78.78-.78 2.05 0 2.83L4 21.41c.39.39.9.59 1.41.59.51 0 1.02-.2 1.41-.59l7.78-7.78 2.81-2.81c.8-.78.8-2.07 0-2.86zM5.41 20L4 18.59l7.72-7.72 1.47 1.35L5.41 20z\"/>\n",
              "  </svg>\n",
              "      </button>\n",
              "      \n",
              "  <style>\n",
              "    .colab-df-container {\n",
              "      display:flex;\n",
              "      flex-wrap:wrap;\n",
              "      gap: 12px;\n",
              "    }\n",
              "\n",
              "    .colab-df-convert {\n",
              "      background-color: #E8F0FE;\n",
              "      border: none;\n",
              "      border-radius: 50%;\n",
              "      cursor: pointer;\n",
              "      display: none;\n",
              "      fill: #1967D2;\n",
              "      height: 32px;\n",
              "      padding: 0 0 0 0;\n",
              "      width: 32px;\n",
              "    }\n",
              "\n",
              "    .colab-df-convert:hover {\n",
              "      background-color: #E2EBFA;\n",
              "      box-shadow: 0px 1px 2px rgba(60, 64, 67, 0.3), 0px 1px 3px 1px rgba(60, 64, 67, 0.15);\n",
              "      fill: #174EA6;\n",
              "    }\n",
              "\n",
              "    [theme=dark] .colab-df-convert {\n",
              "      background-color: #3B4455;\n",
              "      fill: #D2E3FC;\n",
              "    }\n",
              "\n",
              "    [theme=dark] .colab-df-convert:hover {\n",
              "      background-color: #434B5C;\n",
              "      box-shadow: 0px 1px 3px 1px rgba(0, 0, 0, 0.15);\n",
              "      filter: drop-shadow(0px 1px 2px rgba(0, 0, 0, 0.3));\n",
              "      fill: #FFFFFF;\n",
              "    }\n",
              "  </style>\n",
              "\n",
              "      <script>\n",
              "        const buttonEl =\n",
              "          document.querySelector('#df-19eeacad-6561-4dfa-b1ba-470ccc94c3df button.colab-df-convert');\n",
              "        buttonEl.style.display =\n",
              "          google.colab.kernel.accessAllowed ? 'block' : 'none';\n",
              "\n",
              "        async function convertToInteractive(key) {\n",
              "          const element = document.querySelector('#df-19eeacad-6561-4dfa-b1ba-470ccc94c3df');\n",
              "          const dataTable =\n",
              "            await google.colab.kernel.invokeFunction('convertToInteractive',\n",
              "                                                     [key], {});\n",
              "          if (!dataTable) return;\n",
              "\n",
              "          const docLinkHtml = 'Like what you see? Visit the ' +\n",
              "            '<a target=\"_blank\" href=https://colab.research.google.com/notebooks/data_table.ipynb>data table notebook</a>'\n",
              "            + ' to learn more about interactive tables.';\n",
              "          element.innerHTML = '';\n",
              "          dataTable['output_type'] = 'display_data';\n",
              "          await google.colab.output.renderOutput(dataTable, element);\n",
              "          const docLink = document.createElement('div');\n",
              "          docLink.innerHTML = docLinkHtml;\n",
              "          element.appendChild(docLink);\n",
              "        }\n",
              "      </script>\n",
              "    </div>\n",
              "  </div>\n",
              "  "
            ]
          },
          "metadata": {},
          "execution_count": 70
        }
      ]
    },
    {
      "cell_type": "code",
      "execution_count": 54,
      "id": "d90f6e3f-d3a6-4db8-88c5-efa243a6f33e",
      "metadata": {
        "id": "d90f6e3f-d3a6-4db8-88c5-efa243a6f33e"
      },
      "outputs": [],
      "source": [
        "device = torch.device(\"cuda:0\")"
      ]
    },
    {
      "cell_type": "markdown",
      "source": [
        "## **Load Model**\n",
        "- Load Config\n",
        "- Load Model\n",
        "- Load Tokenizer"
      ],
      "metadata": {
        "id": "WK4u7CYCIOlj"
      },
      "id": "WK4u7CYCIOlj"
    },
    {
      "cell_type": "code",
      "source": [
        "config = AutoConfig.from_pretrained('klue/bert-base', num_labels=3)\n",
        "bertmodel = AutoModelForSequenceClassification.from_config(config)\n",
        "tok = AutoTokenizer.from_pretrained('klue/bert-base')"
      ],
      "metadata": {
        "id": "n2ezKDT2IHdn"
      },
      "id": "n2ezKDT2IHdn",
      "execution_count": 55,
      "outputs": []
    },
    {
      "cell_type": "code",
      "source": [
        "bertmodel"
      ],
      "metadata": {
        "id": "818k5hgqdr7J"
      },
      "id": "818k5hgqdr7J",
      "execution_count": null,
      "outputs": []
    },
    {
      "cell_type": "code",
      "source": [
        "set_seeds(42)"
      ],
      "metadata": {
        "id": "7QeAR3nOVySo"
      },
      "id": "7QeAR3nOVySo",
      "execution_count": null,
      "outputs": []
    },
    {
      "cell_type": "markdown",
      "source": [
        "## **Tokenization + Preprocess**\n",
        "- Create Input Format\n",
        "- Convert Labels into Digits\n",
        "- Stratified K-Fold on Dataset"
      ],
      "metadata": {
        "id": "xS2FhIUHJ4_o"
      },
      "id": "xS2FhIUHJ4_o"
    },
    {
      "cell_type": "code",
      "source": [
        "label_dict = {\"entailment\" : 0, \"contradiction\" : 1, \"neutral\" : 2}"
      ],
      "metadata": {
        "id": "13s4X5efK_Ek"
      },
      "id": "13s4X5efK_Ek",
      "execution_count": 57,
      "outputs": []
    },
    {
      "cell_type": "code",
      "source": [
        "train[\"premise_\"] = train[\"premise\"] + \"[SEP]\"\n",
        "train[\"hypothesis_\"] = train[\"hypothesis\"]\n",
        "\n",
        "test[\"premise_\"] = test[\"premise\"] + \"[SEP]\"\n",
        "test[\"hypothesis_\"] = test[\"hypothesis\"]\n",
        "\n",
        "train[\"text_sum\"] = train.premise_ + \" \" + train.hypothesis_\n",
        "test[\"text_sum\"] = test.premise_ + \" \" + test.hypothesis_\n",
        "\n",
        "train_content = []\n",
        "test_content = []\n",
        "\n",
        "for i, text in enumerate(train.text_sum):\n",
        "    train_content.append(list([text, label_dict[train.label[i]]]))\n",
        "    \n",
        "for i, text in enumerate(test.text_sum):\n",
        "    test_content.append([text])\n",
        "    \n",
        "dataset_train = train_content\n",
        "dataset_test = test_content"
      ],
      "metadata": {
        "id": "bJq2r8GTK6D9"
      },
      "id": "bJq2r8GTK6D9",
      "execution_count": 71,
      "outputs": []
    },
    {
      "cell_type": "code",
      "source": [
        "class BERTDataset(Dataset):\n",
        "    def __init__(self, tokenized_examples, labels=None):\n",
        "        self.tokenized_examples = tokenized_examples\n",
        "        self.labels = labels\n",
        "\n",
        "    def __getitem__(self, i):\n",
        "        item = {key: value[i] for key, value in self.tokenized_examples.items()}\n",
        "        if self.labels:\n",
        "            item['labels'] = torch.tensor(self.labels[i])\n",
        "        return item\n",
        "    \n",
        "    def __len__(self):\n",
        "        return len(self.tokenized_examples['input_ids'])"
      ],
      "metadata": {
        "id": "9pThhf5jNH6f"
      },
      "id": "9pThhf5jNH6f",
      "execution_count": 63,
      "outputs": []
    },
    {
      "cell_type": "code",
      "source": [
        "# train\n",
        "dataset_train_sentences = [row[0] for row in dataset_train]\n",
        "dataset_train_labels = [row[1] for row in dataset_train]\n",
        "\n",
        "# test\n",
        "dataset_test_sentences = [row[0] for row in dataset_test]"
      ],
      "metadata": {
        "id": "hUjFrDb7LDAd"
      },
      "id": "hUjFrDb7LDAd",
      "execution_count": 72,
      "outputs": []
    },
    {
      "cell_type": "code",
      "source": [
        "tokenized_train_sentences = tok(\n",
        "    dataset_train_sentences,    # premise + hypothesis\n",
        "    add_special_tokens=True,\n",
        "    return_token_type_ids=True, # roberta = False\n",
        "    padding=True,\n",
        "    truncation=True,\n",
        "    max_length=100,\n",
        "    return_tensors=\"pt\"\n",
        ")\n",
        "\n",
        "tokenized_test_sentences = tok(\n",
        "    dataset_test_sentences,     # premise + hypothesis\n",
        "    add_special_tokens=True,\n",
        "    return_token_type_ids=True, # roberta = False\n",
        "    padding=True,\n",
        "    truncation=True,\n",
        "    max_length=100,\n",
        "    return_tensors=\"pt\"\n",
        ")"
      ],
      "metadata": {
        "id": "98LDMsKsJ4P_"
      },
      "id": "98LDMsKsJ4P_",
      "execution_count": 60,
      "outputs": []
    },
    {
      "cell_type": "code",
      "source": [
        "tokenized_train_sentences['input_ids'][0]"
      ],
      "metadata": {
        "colab": {
          "base_uri": "https://localhost:8080/"
        },
        "id": "TpMPGK3HRV59",
        "outputId": "918d616c-0424-45a7-e7a0-990a96ef3442"
      },
      "id": "TpMPGK3HRV59",
      "execution_count": 61,
      "outputs": [
        {
          "output_type": "execute_result",
          "data": {
            "text/plain": [
              "tensor([    2, 14441,  2073, 12382, 13169,  2200,  3797, 21505,  9005,  2259,\n",
              "         3997,  2031,  2079,  3661, 31221,  5845,  2200,  2112,    16,  5950,\n",
              "        15351, 17788,  7285,   748,  2088, 22048,  2470,  1132, 21893, 15351,\n",
              "         6481, 27135,  5417,  4084,  1972,  2145, 17524,  2138, 15526,  2259,\n",
              "          575, 28674,    18,     3, 14441,  2079,  3883,  2031,  2079,  5845,\n",
              "        28674,    18,     3,     0,     0,     0,     0,     0,     0,     0,\n",
              "            0,     0,     0,     0,     0,     0,     0,     0,     0,     0,\n",
              "            0,     0,     0,     0,     0,     0,     0,     0,     0,     0,\n",
              "            0,     0,     0,     0,     0,     0,     0,     0,     0,     0,\n",
              "            0,     0,     0,     0,     0,     0,     0,     0,     0,     0])"
            ]
          },
          "metadata": {},
          "execution_count": 61
        }
      ]
    },
    {
      "cell_type": "code",
      "source": [
        "len(tokenized_train_sentences['input_ids'])"
      ],
      "metadata": {
        "colab": {
          "base_uri": "https://localhost:8080/"
        },
        "id": "-Rf9eE7qmDYc",
        "outputId": "9f56b7e4-64e3-40b0-aed4-11746dea296b"
      },
      "id": "-Rf9eE7qmDYc",
      "execution_count": 62,
      "outputs": [
        {
          "output_type": "execute_result",
          "data": {
            "text/plain": [
              "20000"
            ]
          },
          "metadata": {},
          "execution_count": 62
        }
      ]
    },
    {
      "cell_type": "code",
      "execution_count": 40,
      "id": "6d6ecf24-cc31-462f-a93d-6948d77b103c",
      "metadata": {
        "id": "6d6ecf24-cc31-462f-a93d-6948d77b103c"
      },
      "outputs": [],
      "source": [
        "# dataset\n",
        "data_train = BERTDataset(tokenized_train_sentences, dataset_train_labels)\n",
        "data_test = BERTDataset(tokenized_test_sentences)"
      ]
    },
    {
      "cell_type": "code",
      "source": [
        "from transformers import TrainingArguments, Trainer\n",
        "from sklearn.model_selection import StratifiedKFold\n",
        "from datasets import load_metric, load_dataset, concatenate_datasets\n",
        "from pandas.core.frame import DataFrame"
      ],
      "metadata": {
        "id": "FvCCw4LuCJUZ"
      },
      "id": "FvCCw4LuCJUZ",
      "execution_count": 90,
      "outputs": []
    },
    {
      "cell_type": "code",
      "source": [
        "skf = StratifiedKFold(n_splits=5, shuffle=True, random_state=42)"
      ],
      "metadata": {
        "id": "E1Up5Q18J50z"
      },
      "id": "E1Up5Q18J50z",
      "execution_count": 74,
      "outputs": []
    },
    {
      "cell_type": "code",
      "source": [
        "df_data_train = DataFrame.from_records(data_train) # dict-based BERTDataset to DataFrame"
      ],
      "metadata": {
        "id": "fnO8YlRnSP3I"
      },
      "id": "fnO8YlRnSP3I",
      "execution_count": 111,
      "outputs": []
    },
    {
      "cell_type": "code",
      "source": [
        "for n_fold, (train_idx, val_idx) in enumerate(skf.split(data_train, data_train.labels)):\n",
        "    df_data_train.loc[val_idx, 'fold'] = n_fold # iloc fail"
      ],
      "metadata": {
        "id": "cQsbevO0RVkA"
      },
      "id": "cQsbevO0RVkA",
      "execution_count": 114,
      "outputs": []
    },
    {
      "cell_type": "code",
      "source": [
        "df_data_train.head()"
      ],
      "metadata": {
        "colab": {
          "base_uri": "https://localhost:8080/",
          "height": 206
        },
        "id": "E2GCJKjoTfLF",
        "outputId": "36b274db-2607-4aa8-e99f-b08860711fd4"
      },
      "id": "E2GCJKjoTfLF",
      "execution_count": 116,
      "outputs": [
        {
          "output_type": "execute_result",
          "data": {
            "text/plain": [
              "                                           input_ids  \\\n",
              "0  [tensor(2), tensor(14441), tensor(2073), tenso...   \n",
              "1  [tensor(2), tensor(3840), tensor(2073), tensor...   \n",
              "2  [tensor(2), tensor(8345), tensor(3627), tensor...   \n",
              "3  [tensor(2), tensor(4104), tensor(16955), tenso...   \n",
              "4  [tensor(2), tensor(4739), tensor(4297), tensor...   \n",
              "\n",
              "                                      token_type_ids  \\\n",
              "0  [tensor(0), tensor(0), tensor(0), tensor(0), t...   \n",
              "1  [tensor(0), tensor(0), tensor(0), tensor(0), t...   \n",
              "2  [tensor(0), tensor(0), tensor(0), tensor(0), t...   \n",
              "3  [tensor(0), tensor(0), tensor(0), tensor(0), t...   \n",
              "4  [tensor(0), tensor(0), tensor(0), tensor(0), t...   \n",
              "\n",
              "                                      attention_mask     labels  fold  \n",
              "0  [tensor(1), tensor(1), tensor(1), tensor(1), t...  tensor(1)   1.0  \n",
              "1  [tensor(1), tensor(1), tensor(1), tensor(1), t...  tensor(1)   4.0  \n",
              "2  [tensor(1), tensor(1), tensor(1), tensor(1), t...  tensor(0)   0.0  \n",
              "3  [tensor(1), tensor(1), tensor(1), tensor(1), t...  tensor(2)   2.0  \n",
              "4  [tensor(1), tensor(1), tensor(1), tensor(1), t...  tensor(2)   4.0  "
            ],
            "text/html": [
              "\n",
              "  <div id=\"df-7d3545cd-c408-4a9b-8962-2fb56c18f410\">\n",
              "    <div class=\"colab-df-container\">\n",
              "      <div>\n",
              "<style scoped>\n",
              "    .dataframe tbody tr th:only-of-type {\n",
              "        vertical-align: middle;\n",
              "    }\n",
              "\n",
              "    .dataframe tbody tr th {\n",
              "        vertical-align: top;\n",
              "    }\n",
              "\n",
              "    .dataframe thead th {\n",
              "        text-align: right;\n",
              "    }\n",
              "</style>\n",
              "<table border=\"1\" class=\"dataframe\">\n",
              "  <thead>\n",
              "    <tr style=\"text-align: right;\">\n",
              "      <th></th>\n",
              "      <th>input_ids</th>\n",
              "      <th>token_type_ids</th>\n",
              "      <th>attention_mask</th>\n",
              "      <th>labels</th>\n",
              "      <th>fold</th>\n",
              "    </tr>\n",
              "  </thead>\n",
              "  <tbody>\n",
              "    <tr>\n",
              "      <th>0</th>\n",
              "      <td>[tensor(2), tensor(14441), tensor(2073), tenso...</td>\n",
              "      <td>[tensor(0), tensor(0), tensor(0), tensor(0), t...</td>\n",
              "      <td>[tensor(1), tensor(1), tensor(1), tensor(1), t...</td>\n",
              "      <td>tensor(1)</td>\n",
              "      <td>1.0</td>\n",
              "    </tr>\n",
              "    <tr>\n",
              "      <th>1</th>\n",
              "      <td>[tensor(2), tensor(3840), tensor(2073), tensor...</td>\n",
              "      <td>[tensor(0), tensor(0), tensor(0), tensor(0), t...</td>\n",
              "      <td>[tensor(1), tensor(1), tensor(1), tensor(1), t...</td>\n",
              "      <td>tensor(1)</td>\n",
              "      <td>4.0</td>\n",
              "    </tr>\n",
              "    <tr>\n",
              "      <th>2</th>\n",
              "      <td>[tensor(2), tensor(8345), tensor(3627), tensor...</td>\n",
              "      <td>[tensor(0), tensor(0), tensor(0), tensor(0), t...</td>\n",
              "      <td>[tensor(1), tensor(1), tensor(1), tensor(1), t...</td>\n",
              "      <td>tensor(0)</td>\n",
              "      <td>0.0</td>\n",
              "    </tr>\n",
              "    <tr>\n",
              "      <th>3</th>\n",
              "      <td>[tensor(2), tensor(4104), tensor(16955), tenso...</td>\n",
              "      <td>[tensor(0), tensor(0), tensor(0), tensor(0), t...</td>\n",
              "      <td>[tensor(1), tensor(1), tensor(1), tensor(1), t...</td>\n",
              "      <td>tensor(2)</td>\n",
              "      <td>2.0</td>\n",
              "    </tr>\n",
              "    <tr>\n",
              "      <th>4</th>\n",
              "      <td>[tensor(2), tensor(4739), tensor(4297), tensor...</td>\n",
              "      <td>[tensor(0), tensor(0), tensor(0), tensor(0), t...</td>\n",
              "      <td>[tensor(1), tensor(1), tensor(1), tensor(1), t...</td>\n",
              "      <td>tensor(2)</td>\n",
              "      <td>4.0</td>\n",
              "    </tr>\n",
              "  </tbody>\n",
              "</table>\n",
              "</div>\n",
              "      <button class=\"colab-df-convert\" onclick=\"convertToInteractive('df-7d3545cd-c408-4a9b-8962-2fb56c18f410')\"\n",
              "              title=\"Convert this dataframe to an interactive table.\"\n",
              "              style=\"display:none;\">\n",
              "        \n",
              "  <svg xmlns=\"http://www.w3.org/2000/svg\" height=\"24px\"viewBox=\"0 0 24 24\"\n",
              "       width=\"24px\">\n",
              "    <path d=\"M0 0h24v24H0V0z\" fill=\"none\"/>\n",
              "    <path d=\"M18.56 5.44l.94 2.06.94-2.06 2.06-.94-2.06-.94-.94-2.06-.94 2.06-2.06.94zm-11 1L8.5 8.5l.94-2.06 2.06-.94-2.06-.94L8.5 2.5l-.94 2.06-2.06.94zm10 10l.94 2.06.94-2.06 2.06-.94-2.06-.94-.94-2.06-.94 2.06-2.06.94z\"/><path d=\"M17.41 7.96l-1.37-1.37c-.4-.4-.92-.59-1.43-.59-.52 0-1.04.2-1.43.59L10.3 9.45l-7.72 7.72c-.78.78-.78 2.05 0 2.83L4 21.41c.39.39.9.59 1.41.59.51 0 1.02-.2 1.41-.59l7.78-7.78 2.81-2.81c.8-.78.8-2.07 0-2.86zM5.41 20L4 18.59l7.72-7.72 1.47 1.35L5.41 20z\"/>\n",
              "  </svg>\n",
              "      </button>\n",
              "      \n",
              "  <style>\n",
              "    .colab-df-container {\n",
              "      display:flex;\n",
              "      flex-wrap:wrap;\n",
              "      gap: 12px;\n",
              "    }\n",
              "\n",
              "    .colab-df-convert {\n",
              "      background-color: #E8F0FE;\n",
              "      border: none;\n",
              "      border-radius: 50%;\n",
              "      cursor: pointer;\n",
              "      display: none;\n",
              "      fill: #1967D2;\n",
              "      height: 32px;\n",
              "      padding: 0 0 0 0;\n",
              "      width: 32px;\n",
              "    }\n",
              "\n",
              "    .colab-df-convert:hover {\n",
              "      background-color: #E2EBFA;\n",
              "      box-shadow: 0px 1px 2px rgba(60, 64, 67, 0.3), 0px 1px 3px 1px rgba(60, 64, 67, 0.15);\n",
              "      fill: #174EA6;\n",
              "    }\n",
              "\n",
              "    [theme=dark] .colab-df-convert {\n",
              "      background-color: #3B4455;\n",
              "      fill: #D2E3FC;\n",
              "    }\n",
              "\n",
              "    [theme=dark] .colab-df-convert:hover {\n",
              "      background-color: #434B5C;\n",
              "      box-shadow: 0px 1px 3px 1px rgba(0, 0, 0, 0.15);\n",
              "      filter: drop-shadow(0px 1px 2px rgba(0, 0, 0, 0.3));\n",
              "      fill: #FFFFFF;\n",
              "    }\n",
              "  </style>\n",
              "\n",
              "      <script>\n",
              "        const buttonEl =\n",
              "          document.querySelector('#df-7d3545cd-c408-4a9b-8962-2fb56c18f410 button.colab-df-convert');\n",
              "        buttonEl.style.display =\n",
              "          google.colab.kernel.accessAllowed ? 'block' : 'none';\n",
              "\n",
              "        async function convertToInteractive(key) {\n",
              "          const element = document.querySelector('#df-7d3545cd-c408-4a9b-8962-2fb56c18f410');\n",
              "          const dataTable =\n",
              "            await google.colab.kernel.invokeFunction('convertToInteractive',\n",
              "                                                     [key], {});\n",
              "          if (!dataTable) return;\n",
              "\n",
              "          const docLinkHtml = 'Like what you see? Visit the ' +\n",
              "            '<a target=\"_blank\" href=https://colab.research.google.com/notebooks/data_table.ipynb>data table notebook</a>'\n",
              "            + ' to learn more about interactive tables.';\n",
              "          element.innerHTML = '';\n",
              "          dataTable['output_type'] = 'display_data';\n",
              "          await google.colab.output.renderOutput(dataTable, element);\n",
              "          const docLink = document.createElement('div');\n",
              "          docLink.innerHTML = docLinkHtml;\n",
              "          element.appendChild(docLink);\n",
              "        }\n",
              "      </script>\n",
              "    </div>\n",
              "  </div>\n",
              "  "
            ]
          },
          "metadata": {},
          "execution_count": 116
        }
      ]
    },
    {
      "cell_type": "markdown",
      "id": "7b2f2712-51a1-44fd-814d-e170c5773cf7",
      "metadata": {
        "id": "7b2f2712-51a1-44fd-814d-e170c5773cf7"
      },
      "source": [
        "## **Trainer**\n",
        "- Create TrainingArguments\n",
        "- Create Trainer\n",
        "- Do Train"
      ]
    },
    {
      "cell_type": "code",
      "source": [
        "batch_size = 32"
      ],
      "metadata": {
        "id": "u5190ZwaVC9C"
      },
      "id": "u5190ZwaVC9C",
      "execution_count": 117,
      "outputs": []
    },
    {
      "cell_type": "code",
      "source": [
        "# optimizer = AdamwHF\n",
        "TrainingArguments(\n",
        "    run_name='dacon-klue-nli',\n",
        "    output_dir='klue-nli',\n",
        "    num_train_epochs=5,\n",
        "    per_device_train_batch_size=batch_size,\n",
        "    per_device_eval_batch_size=batch_size,\n",
        "    save_strategy='steps',\n",
        "    evaluation_strategy='steps',\n",
        "    save_steps=200,\n",
        "    eval_steps=200,\n",
        "    debug='underflow_overflow',\n",
        "    learning_rate=2e-5,\n",
        "    weight_decay=0.01,\n",
        "    lr_scheduler_type='get_cosine_with_hard_restarts_schedule_with_warmup',\n",
        "    warmup_steps=150,\n",
        "    load_best_model_at_end=True,\n",
        "    metric_for_best_model='accuracy', # validation accuracy\n",
        "    report_to='all',\n",
        "    # gradient_checkpointing=True     # save memory but, slower backward\n",
        ")"
      ],
      "metadata": {
        "id": "REHk-Y9qTfOs"
      },
      "id": "REHk-Y9qTfOs",
      "execution_count": null,
      "outputs": []
    },
    {
      "cell_type": "code",
      "source": [
        ""
      ],
      "metadata": {
        "id": "Fd6yNH-fTfRB"
      },
      "id": "Fd6yNH-fTfRB",
      "execution_count": null,
      "outputs": []
    },
    {
      "cell_type": "code",
      "source": [
        ""
      ],
      "metadata": {
        "id": "_y-nXTQGbWZh"
      },
      "id": "_y-nXTQGbWZh",
      "execution_count": null,
      "outputs": []
    },
    {
      "cell_type": "code",
      "source": [
        ""
      ],
      "metadata": {
        "id": "i2rMkwD4bWcI"
      },
      "id": "i2rMkwD4bWcI",
      "execution_count": null,
      "outputs": []
    },
    {
      "cell_type": "code",
      "source": [
        ""
      ],
      "metadata": {
        "id": "yLqi-MKNbWed"
      },
      "id": "yLqi-MKNbWed",
      "execution_count": null,
      "outputs": []
    },
    {
      "cell_type": "code",
      "source": [
        ""
      ],
      "metadata": {
        "id": "SvDR4ujERUAi"
      },
      "id": "SvDR4ujERUAi",
      "execution_count": null,
      "outputs": []
    },
    {
      "cell_type": "code",
      "source": [
        "# metric for evaluation\n",
        "metric = load_metric('glue', 'qnli')"
      ],
      "metadata": {
        "id": "mFDvLUDFF6J4"
      },
      "id": "mFDvLUDFF6J4",
      "execution_count": 68,
      "outputs": []
    },
    {
      "cell_type": "code",
      "source": [
        "def compute_metrics(eval_pred):\n",
        "    predictions, labels = eval_pred\n",
        "    predictions = np.argmax(predictions, axis=1)\n",
        "    return metric.compute(predictions=predictions, references=labels)"
      ],
      "metadata": {
        "id": "8lukeIYWEvJY"
      },
      "id": "8lukeIYWEvJY",
      "execution_count": 69,
      "outputs": []
    },
    {
      "cell_type": "code",
      "source": [
        ""
      ],
      "metadata": {
        "id": "_LDdUVfJEvGV"
      },
      "id": "_LDdUVfJEvGV",
      "execution_count": null,
      "outputs": []
    },
    {
      "cell_type": "code",
      "source": [
        ""
      ],
      "metadata": {
        "id": "ZXy1t-noVUwf"
      },
      "id": "ZXy1t-noVUwf",
      "execution_count": null,
      "outputs": []
    },
    {
      "cell_type": "code",
      "source": [
        ""
      ],
      "metadata": {
        "id": "4KBFShlkVUzF"
      },
      "id": "4KBFShlkVUzF",
      "execution_count": null,
      "outputs": []
    },
    {
      "cell_type": "code",
      "source": [
        "import gc\n",
        "from torch.cuda.amp import GradScaler, autocast\n",
        "\n",
        "scaler = GradScaler()"
      ],
      "metadata": {
        "id": "Fu21GJJstHpE"
      },
      "id": "Fu21GJJstHpE",
      "execution_count": null,
      "outputs": []
    },
    {
      "cell_type": "markdown",
      "id": "9f79543d-b19c-483e-ad11-f9f10e0e55f2",
      "metadata": {
        "id": "9f79543d-b19c-483e-ad11-f9f10e0e55f2"
      },
      "source": [
        "## **Inference**\n",
        "- Convert Digits to Labels\n",
        "- Submission"
      ]
    },
    {
      "cell_type": "code",
      "execution_count": null,
      "id": "c487567c-1679-41bc-b272-6343b037083a",
      "metadata": {
        "id": "c487567c-1679-41bc-b272-6343b037083a"
      },
      "outputs": [],
      "source": [
        "# inference\n",
        "result = []\n",
        "model.eval()\n",
        "with torch.no_grad():\n",
        "    for batch_id, batch in tqdm(enumerate(test_dataloader), total=len(test_dataloader)):\n",
        "        token_ids = batch['input_ids'].to(device)\n",
        "        segment_ids = batch['attention_mask'].to(device)\n",
        "        out = model(token_ids, segment_ids)\n",
        "        result.append(out.logits)"
      ]
    },
    {
      "cell_type": "code",
      "execution_count": null,
      "id": "fd386a25-6bf8-4598-9c89-2981c534538d",
      "metadata": {
        "id": "fd386a25-6bf8-4598-9c89-2981c534538d"
      },
      "outputs": [],
      "source": [
        "result_ = []\n",
        "for i in result:\n",
        "    for j in i:\n",
        "        result_.append(int(torch.argmax(j)))\n",
        "        \n",
        "out = [list(label_dict.keys())[_] for _ in result_]\n",
        "submission[\"label\"] = out\n",
        "submission.to_csv(\"sample_submission.csv\", index = False)"
      ]
    }
  ],
  "metadata": {
    "kernelspec": {
      "display_name": "Python 3",
      "name": "python3"
    },
    "language_info": {
      "name": "python"
    },
    "colab": {
      "name": "dacon-nli-competition-practice.ipynb",
      "provenance": [],
      "collapsed_sections": [],
      "machine_shape": "hm",
      "include_colab_link": true
    },
    "accelerator": "GPU"
  },
  "nbformat": 4,
  "nbformat_minor": 5
}